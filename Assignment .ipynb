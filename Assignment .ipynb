{
 "cells": [
  {
   "cell_type": "markdown",
   "id": "c4a9f088",
   "metadata": {},
   "source": [
    "# Chapter 2 \n"
   ]
  },
  {
   "cell_type": "code",
   "execution_count": null,
   "id": "a9a6ef8d",
   "metadata": {},
   "outputs": [],
   "source": [
    "# Variable assignment\n",
    "name = \"John\"\n",
    "age = 30\n",
    "height = 175.5\n",
    "is_student = True\n",
    "​\n",
    "# Printing variables\n",
    "print(\"Name:\", name)\n",
    "print(\"Age:\", age)\n",
    "print(\"Height:\", height)\n",
    "print(\"Is Student:\", is_student)\n",
    "​\n",
    "# Modifying variables\n",
    "age += 5\n",
    "height += 2.5\n",
    "is_student = False\n",
    "​\n",
    "# Printing modified variables\n",
    "print(\"\\nAfter modifications:\")\n",
    "print(\"Name:\", name)\n",
    "print(\"Age:\", age)\n",
    "print(\"Height:\", height)\n",
    "print(\"Is Student:\", is_student)"
   ]
  },
  {
   "cell_type": "markdown",
   "id": "9de9f05f",
   "metadata": {},
   "source": [
    "# Chapter 3"
   ]
  },
  {
   "cell_type": "code",
   "execution_count": null,
   "id": "87e29a4b",
   "metadata": {},
   "outputs": [],
   "source": [
    "# Get user input\n",
    "user_age = int(input(\"Enter your age: \"))\n",
    "​\n",
    "# Conditional execution\n",
    "if user_age < 18:\n",
    "    print(\"You are a minor.\")\n",
    "elif 18 <= user_age < 65:\n",
    "    print(\"You are an adult.\")\n",
    "else:\n",
    "    print(\"You are a senior citizen.\")"
   ]
  },
  {
   "cell_type": "code",
   "execution_count": null,
   "id": "79bd21b0",
   "metadata": {},
   "outputs": [],
   "source": [
    "# Input: Get two numbers from the user\n",
    "try:\n",
    "    num1 = float(input(\"Enter the first number: \"))\n",
    "    num2 = float(input(\"Enter the second number: \"))\n",
    "​\n",
    "    # Division operation that might raise an exception\n",
    "    result = num1 / num2\n",
    "​\n",
    "    # Output: Display the result\n",
    "    print(\"Result:\", result)\n",
    "​\n",
    "except ZeroDivisionError:\n",
    "    print(\"Error: Division by zero is not allowed.\")\n",
    "except ValueError:\n",
    "    print(\"Error: Invalid input. Please enter valid numbers.\")\n",
    "except Exception as e:\n",
    "    print(\"An error occurred:\", e)\n",
    "​\n",
    "# This code will always run, whether an exception occurred or not.\n",
    "print(\"Program finished.\")"
   ]
  },
  {
   "cell_type": "code",
   "execution_count": null,
   "id": "997c10d8",
   "metadata": {},
   "outputs": [],
   "source": [
    "# Get user input\n",
    "user_age = int(input(\"Enter your age: \"))\n",
    "​\n",
    "# Conditional execution\n",
    "if user_age < 18:\n",
    "    print(\"You are a minor.\")\n",
    "elif 18 <= user_age < 65:\n",
    "    print(\"You are an adult.\")\n",
    "else:\n",
    "    print(\"You are a senior citizen.\")"
   ]
  },
  {
   "cell_type": "markdown",
   "id": "f8675e86",
   "metadata": {},
   "source": [
    "# Chapter 4 "
   ]
  },
  {
   "cell_type": "code",
   "execution_count": null,
   "id": "3dc1aec6",
   "metadata": {},
   "outputs": [],
   "source": [
    "# Using max() with multiple arguments\n",
    "a = 15\n",
    "b = 27\n",
    "c = 12\n",
    "max_value = max(a, b, c)\n",
    "print(\"Maximum value among a, b, and c:\", max_value)"
   ]
  },
  {
   "cell_type": "code",
   "execution_count": null,
   "id": "aa17a23f",
   "metadata": {},
   "outputs": [],
   "source": [
    "# String to Integer conversion\n",
    "str_num = \"42\"\n",
    "int_num = int(str_num)\n",
    "print(\"String to Integer conversion:\", int_num)\n",
    "​\n",
    "# Integer to String conversion\n",
    "int_val = 123\n",
    "str_val = str(int_val)\n",
    "print(\"Integer to String conversion:\", str_val)\n",
    "​\n",
    "# String to Float conversion\n",
    "str_float = \"3.14\"\n",
    "float_num = float(str_float)\n",
    "print(\"String to Float conversion:\", float_num)\n",
    "​\n",
    "# Float to Integer conversion (truncates decimal part)\n",
    "float_val = 7.99\n",
    "int_val = int(float_val)\n",
    "print(\"Float to Integer conversion:\", int_val)\n",
    "​\n",
    "# Integer to Float conversion\n",
    "int_float = 42\n",
    "float_num = float(int_float)\n",
    "print(\"Integer to Float conversion:\", float_num)"
   ]
  },
  {
   "cell_type": "code",
   "execution_count": null,
   "id": "2c79c944",
   "metadata": {},
   "outputs": [],
   "source": [
    "# Define a list of numbers\n",
    "numbers = [10, 25, 5, 45, 30]\n",
    "​\n",
    "# Initialize a variable to store the minimum value\n",
    "smallest = numbers[0]  # Assume the first number is the smallest\n",
    "​\n",
    "# Iterate through the list to find the smallest number\n",
    "for num in numbers:\n",
    "    if num < smallest:\n",
    "        smallest = num\n",
    "​\n",
    "# Print the smallest number\n",
    "print(\"The smallest number in the list is:\", smallest)"
   ]
  },
  {
   "cell_type": "markdown",
   "id": "60846163",
   "metadata": {},
   "source": [
    "# Chapter 5 "
   ]
  },
  {
   "cell_type": "code",
   "execution_count": null,
   "id": "27ce580a",
   "metadata": {},
   "outputs": [],
   "source": [
    "# Initialize a counter\n",
    "count = 0\n",
    "​\n",
    "# Define the condition for the while loop\n",
    "while count < 5:\n",
    "    print(\"Count:\", count)\n",
    "    count += 1  # Increment the counter\n",
    "​\n",
    "print(\"Loop finished\")"
   ]
  },
  {
   "cell_type": "code",
   "execution_count": null,
   "id": "6df81c26",
   "metadata": {},
   "outputs": [],
   "source": [
    "# Initialize a counter\n",
    "count = 0\n",
    "​\n",
    "# Start a while loop\n",
    "while count < 5:\n",
    "    count += 1  # Increment the counter\n",
    "​\n",
    "    # Check if count is odd\n",
    "    if count % 2 == 1:\n",
    "        continue  # Skip the rest of the loop body for odd numbers\n",
    "​\n",
    "    print(\"Count:\", count)  # This will only execute for even numbers\n",
    "​\n",
    "print(\"Loop finished\")"
   ]
  },
  {
   "cell_type": "code",
   "execution_count": null,
   "id": "69241581",
   "metadata": {},
   "outputs": [],
   "source": [
    "# Iterate over a list of numbers\n",
    "numbers = [1, 2, 3, 4, 5]\n",
    "for num in numbers:\n",
    "    print(num)\n",
    "​\n",
    "# Iterate over a string\n",
    "text = \"Hello, World!\"\n",
    "for char in text:\n",
    "    print(char)\n",
    "​\n",
    "# Iterate over a range of numbers\n",
    "for i in range(1, 6):\n",
    "    print(\"Iteration\", i)"
   ]
  },
  {
   "cell_type": "code",
   "execution_count": null,
   "id": "c08fb000",
   "metadata": {},
   "outputs": [],
   "source": [
    "# Get the upper limit from the user\n",
    "upper_limit = int(input(\"Enter the upper limit: \"))\n",
    "​\n",
    "# Use a for loop to count from 1 to the upper limit\n",
    "for i in range(1, upper_limit + 1):\n",
    "    print(i)"
   ]
  },
  {
   "cell_type": "markdown",
   "id": "1c51b8fe",
   "metadata": {},
   "source": [
    "# Chapter 6"
   ]
  },
  {
   "cell_type": "code",
   "execution_count": null,
   "id": "f094bb6d",
   "metadata": {},
   "outputs": [],
   "source": [
    "# Define a string\n",
    "text = \"Hello, World!\"\n",
    "​\n",
    "# Initialize a variable to count vowels\n",
    "vowel_count = 0\n",
    "​\n",
    "# Define a set of vowels\n",
    "vowels = \"aeiouAEIOU\"\n",
    "​\n",
    "# Iterate over the characters in the string\n",
    "for char in text:\n",
    "    if char in vowels:\n",
    "        vowel_count += 1\n",
    "​\n",
    "# Print the vowel count\n",
    "print(\"Number of vowels in the string:\", vowel_count)\n",
    " # Define a list of numbers\n",
    "numbers = [10, 25, 5, 45, 30]\n",
    "​\n",
    "# Initialize a variable to store the maximum value\n",
    "largest = numbers[0]  # Assume the first number is the largest\n",
    "​\n",
    "# Iterate through the list to find the largest number\n",
    "for num in numbers:\n",
    "    if num > largest:\n",
    "        largest = num\n",
    "# Print the largest number\n",
    "print(\"The largest number in the list is:\", largest)        "
   ]
  },
  {
   "cell_type": "code",
   "execution_count": null,
   "id": "dec2ade1",
   "metadata": {},
   "outputs": [],
   "source": [
    "text = \"Hello, World!\"\n",
    "​\n",
    "# Basic string slicing\n",
    "substring = text[0:5]  # From index 0 (inclusive) to index 5 (exclusive)\n",
    "print(\"Substring:\", substring)  # Output: \"Hello\"\n",
    "​\n",
    "# Omitting the start index (start from the beginning)\n",
    "substring = text[:5]\n",
    "print(\"Substring (start omitted):\", substring)  # Output: \"Hello\"\n",
    "​\n",
    "# Omitting the end index (end at the end)\n",
    "substring = text[7:]  # From index 7 (inclusive) to the end of the string\n",
    "print(\"Substring (end omitted):\", substring)  # Output: \"World!\"\n",
    "​\n",
    "# Negative indices (counting from the end)\n",
    "substring = text[-6:-1]  # From the 6th character from the end to the last character\n",
    "print(\"Substring (negative indices):\", substring)  # Output: \"World\"\n",
    "​\n",
    "# Slicing with a step (e.g., every second character)\n",
    "substring = text[::2]  # Start from the beginning to the end with a step of 2\n",
    "print(\"Substring (with step 2):\", substring)  # Output: \"Hlo ol!\"\n",
    "​\n",
    "# Reverse a string\n",
    "substring = text[::-1]  # Reverse the entire string\n",
    "print(\"Reversed string:\", substring)  # Output: \"!dlroW ,olleH\""
   ]
  },
  {
   "cell_type": "code",
   "execution_count": null,
   "id": "6f56f370",
   "metadata": {},
   "outputs": [],
   "source": [
    "# Concatenating strings with the + operator\n",
    "first_name = \"John\"\n",
    "last_name = \"Doe\"\n",
    "full_name = first_name + \" \" + last_name\n",
    "print(\"Full name:\", full_name)\n",
    "# Concatenating strings with the + operator\n",
    "first_name = \"John\"\n",
    "last_name = \"Doe\"\n",
    "full_name = first_name + \" \" + last_name\n",
    "print(\"Full name:\", full_name)\n",
    "# Concatenating strings with the + operator\n",
    "first_name = \"John\"\n",
    "last_name = \"Doe\"\n",
    "full_name = first_name + \" \" + last_name\n",
    "print(\"Full name:\", full_name)"
   ]
  },
  {
   "cell_type": "code",
   "execution_count": null,
   "id": "48975196",
   "metadata": {},
   "outputs": [],
   "source": [
    "#len( ) function                                                                                                                                                                                 text = \"Hello, World!\"\n",
    "length = len(text)\n",
    "print(\"Length of the string:\", length)"
   ]
  }
 ],
 "metadata": {
  "kernelspec": {
   "display_name": "Python 3 (ipykernel)",
   "language": "python",
   "name": "python3"
  },
  "language_info": {
   "codemirror_mode": {
    "name": "ipython",
    "version": 3
   },
   "file_extension": ".py",
   "mimetype": "text/x-python",
   "name": "python",
   "nbconvert_exporter": "python",
   "pygments_lexer": "ipython3",
   "version": "3.11.4"
  }
 },
 "nbformat": 4,
 "nbformat_minor": 5
}
